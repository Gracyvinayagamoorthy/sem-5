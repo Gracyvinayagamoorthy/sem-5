{
 "cells": [
  {
   "cell_type": "code",
   "execution_count": 18,
   "id": "95fa04db-1be3-4a19-a3b9-8af6e194b099",
   "metadata": {},
   "outputs": [],
   "source": [
    "names = [\"gracy\",\"haritha\",\"harshini\",\"haritha\",\"gracy\",\"gracy\"]\n",
    "def remove(name):\n",
    "    new_names=[]\n",
    "    for name in names:\n",
    "        if (name not in new_names):\n",
    "            new_names.append(name)\n",
    "    print(new_names)"
   ]
  },
  {
   "cell_type": "code",
   "execution_count": 19,
   "id": "8bd9e5f4-b42d-43d9-900f-2b0fffbd9cfa",
   "metadata": {},
   "outputs": [
    {
     "name": "stdout",
     "output_type": "stream",
     "text": [
      "['gracy', 'haritha', 'harshini']\n"
     ]
    }
   ],
   "source": [
    "remove(names)"
   ]
  },
  {
   "cell_type": "code",
   "execution_count": null,
   "id": "911238ce-13d9-45a5-b044-7aa3f32efe04",
   "metadata": {},
   "outputs": [],
   "source": []
  }
 ],
 "metadata": {
  "kernelspec": {
   "display_name": "Python 3 (ipykernel)",
   "language": "python",
   "name": "python3"
  },
  "language_info": {
   "codemirror_mode": {
    "name": "ipython",
    "version": 3
   },
   "file_extension": ".py",
   "mimetype": "text/x-python",
   "name": "python",
   "nbconvert_exporter": "python",
   "pygments_lexer": "ipython3",
   "version": "3.9.19"
  }
 },
 "nbformat": 4,
 "nbformat_minor": 5
}
